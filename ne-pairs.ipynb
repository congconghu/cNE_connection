{
 "cells": [
  {
   "cell_type": "code",
   "execution_count": 1,
   "id": "9efd776f",
   "metadata": {},
   "outputs": [],
   "source": [
    "import sys\n",
    "sys.path.insert(0, 'E:\\Congcong\\Documents\\PythonCodes\\MGB-A1-cNE-comparison')\n",
    "\n",
    "import pandas as pd\n",
    "import os\n",
    "import seaborn as sns\n",
    "import matplotlib.pyplot as plt\n",
    "import scipy.stats as stats\n",
    "\n",
    "from plot_box import boxplot_scatter, plot_significance_star"
   ]
  },
  {
   "cell_type": "code",
   "execution_count": 108,
   "id": "06a8f7e7",
   "metadata": {},
   "outputs": [],
   "source": [
    "datafolder = r'E:\\Congcong\\Documents\\data\\connection\\data-summary'\n",
    "stim = 'spon'\n",
    "filename = f'ne-pairs-{stim}.json'\n",
    "pairs = pd.read_json(os.path.join(datafolder, filename))\n",
    "pairs = pairs[pairs[f'efficacy_neuron_{stim}'].notna() & pairs[f'efficacy_ne_{stim}'].notna() ]\n",
    "pairs = pairs[pairs[f'inclusion_{stim}']]"
   ]
  },
  {
   "cell_type": "code",
   "execution_count": 109,
   "id": "108c39fe",
   "metadata": {
    "scrolled": true
   },
   "outputs": [
    {
     "name": "stdout",
     "output_type": "stream",
     "text": [
      "<class 'pandas.core.frame.DataFrame'>\n",
      "Int64Index: 80 entries, 0 to 211\n",
      "Data columns (total 33 columns):\n",
      " #   Column                    Non-Null Count  Dtype  \n",
      "---  ------                    --------------  -----  \n",
      " 0   ccg_neuron_spon           80 non-null     object \n",
      " 1   ccg_filtered_neuron_spon  80 non-null     object \n",
      " 2   baseline_neuron_spon      80 non-null     object \n",
      " 3   thresh_neuron_spon        80 non-null     object \n",
      " 4   sig_neuron_spon           80 non-null     bool   \n",
      " 5   hw_neuron_spon            72 non-null     float64\n",
      " 6   nspk_neuron_spon          80 non-null     int64  \n",
      " 7   taxis                     80 non-null     object \n",
      " 8   ccg_ne_spon               80 non-null     object \n",
      " 9   ccg_filtered_ne_spon      80 non-null     object \n",
      " 10  baseline_ne_spon          80 non-null     object \n",
      " 11  thresh_ne_spon            80 non-null     object \n",
      " 12  sig_ne_spon               80 non-null     bool   \n",
      " 13  hw_ne_spon                16 non-null     float64\n",
      " 14  nspk_ne_spon              80 non-null     int64  \n",
      " 15  ccg_nonne_spon            80 non-null     object \n",
      " 16  ccg_filtered_nonne_spon   80 non-null     object \n",
      " 17  baseline_nonne_spon       80 non-null     object \n",
      " 18  thresh_nonne_spon         80 non-null     object \n",
      " 19  sig_nonne_spon            80 non-null     bool   \n",
      " 20  hw_nonne_spon             63 non-null     float64\n",
      " 21  nspk_nonne_spon           80 non-null     int64  \n",
      " 22  target_unit               80 non-null     int64  \n",
      " 23  target_idx                80 non-null     int64  \n",
      " 24  input_unit                80 non-null     int64  \n",
      " 25  input_idx                 80 non-null     int64  \n",
      " 26  cne                       80 non-null     int64  \n",
      " 27  efficacy_neuron_spon      80 non-null     float64\n",
      " 28  efficacy_ne_spon          80 non-null     float64\n",
      " 29  efficacy_nonne_spon       80 non-null     float64\n",
      " 30  inclusion_spon            80 non-null     bool   \n",
      " 31  target_waveform_tpd       80 non-null     float64\n",
      " 32  exp                       80 non-null     int64  \n",
      "dtypes: bool(4), float64(7), int64(9), object(13)\n",
      "memory usage: 19.1+ KB\n"
     ]
    }
   ],
   "source": [
    "pairs.info()"
   ]
  },
  {
   "cell_type": "code",
   "execution_count": 110,
   "id": "558214b5",
   "metadata": {},
   "outputs": [
    {
     "data": {
      "image/png": "[encoded data removed]",
      "text/plain": [
       "<Figure size 144x144 with 1 Axes>"
      ]
     },
     "metadata": {
      "needs_background": "light"
     },
     "output_type": "display_data"
    }
   ],
   "source": [
    "fig = plt.figure(figsize=[2, 2])\n",
    "ax = fig.add_axes([.1, .1, .8, .8])\n",
    "sns.scatterplot(data=pairs, x=f'efficacy_neuron_{stim}', y=f'efficacy_ne_{stim}', s=10, ax=ax, color='k')\n",
    "_, p = stats.wilcoxon(pairs[f'efficacy_neuron_{stim}'], pairs[f'efficacy_ne_{stim}'])\n",
    "ax.plot([0, 25], [0, 25], color='k')\n",
    "ax.set_xlim([0, 25])\n",
    "ax.set_ylim([0, 25])\n",
    "ax.set_xlabel('Neuron efficacy')\n",
    "ax.set_ylabel('NE spike efficacy')\n",
    "ax.set_xticks(range(0, 26, 5), range(0, 26, 5))\n",
    "ax.set_yticks(range(0, 26, 5), range(0, 26, 5))\n",
    "ax.text(15, 3, 'p = {:.1e}'.format(p), fontsize=10)\n",
    "fig.savefig(r'E:\\Congcong\\Documents\\data\\connection\\figure\\summary\\efficacy_ne_vs_neuron_{}.jpg'.format(stim),\n",
    "            dpi=300, bbox_inches='tight')\n"
   ]
  },
  {
   "cell_type": "code",
   "execution_count": 111,
   "id": "348a0e46",
   "metadata": {},
   "outputs": [],
   "source": [
    "for unit in ('neuron', 'ne'):\n",
    "    pairs[f'efficacy_scaled_{unit}_{stim}'] = (pairs[f'efficacy_{unit}_{stim}'] / \n",
    "                                               (pairs[f'baseline_{unit}_{stim}'].apply(max)/ pairs[f'nspk_{unit}_{stim}'] * 2000))"
   ]
  },
  {
   "cell_type": "code",
   "execution_count": 112,
   "id": "07ef2540",
   "metadata": {},
   "outputs": [
    {
     "data": {
      "image/png": "[encoded data removed]",
      "text/plain": [
       "<Figure size 144x144 with 1 Axes>"
      ]
     },
     "metadata": {
      "needs_background": "light"
     },
     "output_type": "display_data"
    }
   ],
   "source": [
    "fig = plt.figure(figsize=[2, 2])\n",
    "ax = fig.add_axes([.1, .1, .8, .8])\n",
    "sns.scatterplot(data=pairs, x=f'efficacy_scaled_neuron_{stim}', y=f'efficacy_scaled_ne_{stim}', s=15, ax=ax, color='k')\n",
    "_, p = stats.wilcoxon(pairs[f'efficacy_scaled_neuron_{stim}'], pairs[f'efficacy_scaled_ne_{stim}'])\n",
    "ax.plot([0, 10], [0, 10], 'k')\n",
    "ax.set_xlabel('Neuron efficacy')\n",
    "ax.set_ylabel('NE spike efficacy')\n",
    "ax.text(1.25, .3, 'p = {:.2f}'.format(p), fontsize=10)\n",
    "ax.set_xlim([0, 2])\n",
    "ax.set_ylim([0, 2])\n",
    "fig.savefig(r'E:\\Congcong\\Documents\\data\\connection\\figure\\summary\\efficacy_ne_vs_neuron_{}-scaled.jpg'.format(stim),\n",
    "            dpi=300, bbox_inches='tight')"
   ]
  },
  {
   "cell_type": "code",
   "execution_count": 113,
   "id": "3432c19e",
   "metadata": {},
   "outputs": [],
   "source": [
    "pairs[f'efficacy_gain_{stim}'] = pairs[f'efficacy_ne_{stim}'] / pairs[f'efficacy_neuron_{stim}']"
   ]
  },
  {
   "cell_type": "code",
   "execution_count": 114,
   "id": "a0aac040",
   "metadata": {},
   "outputs": [],
   "source": [
    "pairs['target_ns'] = pairs['target_waveform_tpd'] < .45"
   ]
  },
  {
   "cell_type": "code",
   "execution_count": 115,
   "id": "bb0d61e4",
   "metadata": {},
   "outputs": [
    {
     "data": {
      "image/png": "[encoded data removed]",
      "text/plain": [
       "<Figure size 144x144 with 1 Axes>"
      ]
     },
     "metadata": {
      "needs_background": "light"
     },
     "output_type": "display_data"
    }
   ],
   "source": [
    "colors = sns.color_palette(\"Paired\")\n",
    "tpd_color = (colors[1], colors[5], colors[0], colors[4])\n",
    "fig = plt.figure(figsize=[2, 2])\n",
    "ax = fig.add_axes([.1, .1, .8, .8])\n",
    "boxplot_scatter(ax=ax, data=pairs, x='target_ns', y=f'efficacy_gain_{stim}', hue='target_ns', jitter=.3, size=5,\n",
    "                order=[False, True],hue_order=[False, True], palette=[tpd_color[1], tpd_color[0]])\n",
    "ax.set_xticklabels(['BS', 'NS'])\n",
    "ax.set_xlabel('A1 neuron type')\n",
    "ax.set_ylabel('Efficacy gain')\n",
    "ax.set_ylim([0, 5])\n",
    "_, p = stats.mannwhitneyu(pairs[pairs.target_ns][f'efficacy_gain_{stim}'], pairs[~pairs.target_ns][f'efficacy_gain_{stim}'])\n",
    "plot_significance_star(ax, p, [0, 1], 4.2, 4.5)\n",
    "plt.savefig(r'E:\\Congcong\\Documents\\data\\connection\\figure\\summary\\efficacy_gain_bs_vs_ns_{}.jpg'.format(stim),\n",
    "            dpi=300, bbox_inches='tight')\n"
   ]
  },
  {
   "cell_type": "code",
   "execution_count": null,
   "id": "b370b56e",
   "metadata": {},
   "outputs": [],
   "source": []
  },
  {
   "cell_type": "code",
   "execution_count": null,
   "id": "77cafe37",
   "metadata": {},
   "outputs": [],
   "source": []
  }
 ],
 "metadata": {
  "kernelspec": {
   "display_name": "Python 3 (ipykernel)",
   "language": "python",
   "name": "python3"
  },
  "language_info": {
   "codemirror_mode": {
    "name": "ipython",
    "version": 3
   },
   "file_extension": ".py",
   "mimetype": "text/x-python",
   "name": "python",
   "nbconvert_exporter": "python",
   "pygments_lexer": "ipython3",
   "version": "3.9.7"
  }
 },
 "nbformat": 4,
 "nbformat_minor": 5
}
